import numpy as np
import pandas as pd
import matplotlib.pyplot as plt
import seaborn as sns
from sklearn.model_selection import train_test_split
from sklearn.linear_model import LinearRegression
from sklearn.metrics import r2_score, mean_squared_error
from sklearn.preprocessing import StandardScaler
import requests
from io import StringIO

# Function to load the Boston Housing dataset from a URL
def load_boston_data():
    url = "https://archive.ics.uci.edu/ml/machine-learning-databases/housing/housing.data"
    columns = [
        "CRIM", "ZN", "INDUS", "CHAS", "NOX", "RM", "AGE", "DIS", "RAD", "TAX", "PTRATIO", "B", "LSTAT", "MEDV"
    ]
    response = requests.get(url)
    data = StringIO(response.text)
    return pd.read_csv(data, delim_whitespace=True, names=columns)

# Function to create a Seaborn correlation heatmap
def create_correlation_heatmap(dataframe):
    sns.set(rc={'figure.figsize': (14, 8)})
    correlation_matrix = dataframe.corr()
    sns.heatmap(correlation_matrix, annot=True, cmap="YlGnBu")

# Function to prepare data for linear regression
def prepare_data(dataframe):
    X = dataframe[['LSTAT', 'PTRATIO', 'RM']]
    y = dataframe['MEDV']
    return X, y

# Function to standardize features
def standardize_features(X_train, X_test):
    scaler = StandardScaler()
    X_train_scaled = scaler.fit_transform(X_train)
    X_test_scaled = scaler.transform(X_test)
    return X_train_scaled, X_test_scaled

# Function to create and train a linear regression model
def train_linear_regression(X_train, y_train):
    model = LinearRegression()
    model.fit(X_train, y_train)
    return model

# Function to calculate R-squared and Mean Squared Error
def evaluate_model(model, X_test, y_test):
    y_pred = model.predict(X_test)
    r_squared = r2_score(y_test, y_pred)
    mse = mean_squared_error(y_test, y_pred)
    return r_squared, mse

# Load the Boston Housing dataset
df = load_boston_data()

# Create a Seaborn correlation heatmap
create_correlation_heatmap(df)

# Prepare data for linear regression
X, y = prepare_data(df)

# Split the data into training and testing sets
X_train, X_test, y_train, y_test = train_test_split(X, y, test_size=0.2, random_state=42)

# Standardize the features
X_train_scaled, X_test_scaled = standardize_features(X_train, X_test)

# Train a linear regression model
model = train_linear_regression(X_train_scaled, y_train)

# Evaluate the model and get R-squared and Mean Squared Error
r_squared, mse = evaluate_model(model, X_test_scaled, y_test)

# Print the regression results
print("R-squared:", r_squared)
print("Mean Squared Error:", mse)

# Display the Seaborn heatmap
plt.show()
